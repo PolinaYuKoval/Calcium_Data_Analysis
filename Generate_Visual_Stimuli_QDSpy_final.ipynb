{
  "nbformat": 4,
  "nbformat_minor": 0,
  "metadata": {
    "colab": {
      "provenance": [],
      "collapsed_sections": [
        "hY_MQgG4p2aN",
        "Rs39LHpep8jc",
        "kkTxc9NFqPsu"
      ]
    },
    "kernelspec": {
      "name": "python3",
      "display_name": "Python 3"
    },
    "language_info": {
      "name": "python"
    }
  },
  "cells": [
    {
      "cell_type": "markdown",
      "source": [
        "# DO NOT TOUCH ANYTHING\n",
        "\n",
        "- adjust the file size\n",
        "- change the links to save\n",
        "- change the intensity of files\n",
        "\n",
        "OTHER STUF IS NOT TO BE CHANGED"
      ],
      "metadata": {
        "id": "NvAIr30Yopt8"
      }
    },
    {
      "cell_type": "markdown",
      "source": [
        "#imports"
      ],
      "metadata": {
        "id": "hY_MQgG4p2aN"
      }
    },
    {
      "cell_type": "code",
      "source": [
        "import numpy as np\n",
        "import matplotlib.pyplot as plt\n",
        "from PIL import Image\n",
        "import cv2\n",
        "import os"
      ],
      "metadata": {
        "id": "lg1Wcc6oaX7I"
      },
      "execution_count": 3,
      "outputs": []
    },
    {
      "cell_type": "code",
      "source": [
        "pip install git+https://github.com/pulse2percept/pulse2percept"
      ],
      "metadata": {
        "colab": {
          "base_uri": "https://localhost:8080/"
        },
        "id": "U7cqzC90aumk",
        "outputId": "33dc3adf-a1b5-4012-cfca-f83af7f88205"
      },
      "execution_count": 4,
      "outputs": [
        {
          "output_type": "stream",
          "name": "stdout",
          "text": [
            "Collecting git+https://github.com/pulse2percept/pulse2percept\n",
            "  Cloning https://github.com/pulse2percept/pulse2percept to /tmp/pip-req-build-m2wydlrv\n",
            "  Running command git clone --filter=blob:none --quiet https://github.com/pulse2percept/pulse2percept /tmp/pip-req-build-m2wydlrv\n",
            "  Resolved https://github.com/pulse2percept/pulse2percept to commit c5ec18a6ae756bd50638b1aa99040ba17fc859b3\n",
            "  Installing build dependencies ... \u001b[?25l\u001b[?25hdone\n",
            "  Getting requirements to build wheel ... \u001b[?25l\u001b[?25hdone\n",
            "  Preparing metadata (pyproject.toml) ... \u001b[?25l\u001b[?25hdone\n",
            "Requirement already satisfied: cython>=0.28 in /usr/local/lib/python3.11/dist-packages (from pulse2percept==0.9.0.dev0) (3.0.11)\n",
            "Requirement already satisfied: numpy<1.27,>=1.21 in /usr/local/lib/python3.11/dist-packages (from pulse2percept==0.9.0.dev0) (1.26.4)\n",
            "Requirement already satisfied: scipy>=1.0.1 in /usr/local/lib/python3.11/dist-packages (from pulse2percept==0.9.0.dev0) (1.13.1)\n",
            "Requirement already satisfied: scikit-image>=0.14 in /usr/local/lib/python3.11/dist-packages (from pulse2percept==0.9.0.dev0) (0.25.1)\n",
            "Requirement already satisfied: matplotlib>=3.0.2 in /usr/local/lib/python3.11/dist-packages (from pulse2percept==0.9.0.dev0) (3.10.0)\n",
            "Requirement already satisfied: imageio-ffmpeg>=0.4 in /usr/local/lib/python3.11/dist-packages (from pulse2percept==0.9.0.dev0) (0.6.0)\n",
            "Requirement already satisfied: pandas in /usr/local/lib/python3.11/dist-packages (from pulse2percept==0.9.0.dev0) (2.2.2)\n",
            "Requirement already satisfied: joblib>=0.11 in /usr/local/lib/python3.11/dist-packages (from pulse2percept==0.9.0.dev0) (1.4.2)\n",
            "Requirement already satisfied: contourpy>=1.0.1 in /usr/local/lib/python3.11/dist-packages (from matplotlib>=3.0.2->pulse2percept==0.9.0.dev0) (1.3.1)\n",
            "Requirement already satisfied: cycler>=0.10 in /usr/local/lib/python3.11/dist-packages (from matplotlib>=3.0.2->pulse2percept==0.9.0.dev0) (0.12.1)\n",
            "Requirement already satisfied: fonttools>=4.22.0 in /usr/local/lib/python3.11/dist-packages (from matplotlib>=3.0.2->pulse2percept==0.9.0.dev0) (4.55.6)\n",
            "Requirement already satisfied: kiwisolver>=1.3.1 in /usr/local/lib/python3.11/dist-packages (from matplotlib>=3.0.2->pulse2percept==0.9.0.dev0) (1.4.8)\n",
            "Requirement already satisfied: packaging>=20.0 in /usr/local/lib/python3.11/dist-packages (from matplotlib>=3.0.2->pulse2percept==0.9.0.dev0) (24.2)\n",
            "Requirement already satisfied: pillow>=8 in /usr/local/lib/python3.11/dist-packages (from matplotlib>=3.0.2->pulse2percept==0.9.0.dev0) (11.1.0)\n",
            "Requirement already satisfied: pyparsing>=2.3.1 in /usr/local/lib/python3.11/dist-packages (from matplotlib>=3.0.2->pulse2percept==0.9.0.dev0) (3.2.1)\n",
            "Requirement already satisfied: python-dateutil>=2.7 in /usr/local/lib/python3.11/dist-packages (from matplotlib>=3.0.2->pulse2percept==0.9.0.dev0) (2.8.2)\n",
            "Requirement already satisfied: networkx>=3.0 in /usr/local/lib/python3.11/dist-packages (from scikit-image>=0.14->pulse2percept==0.9.0.dev0) (3.4.2)\n",
            "Requirement already satisfied: imageio!=2.35.0,>=2.33 in /usr/local/lib/python3.11/dist-packages (from scikit-image>=0.14->pulse2percept==0.9.0.dev0) (2.36.1)\n",
            "Requirement already satisfied: tifffile>=2022.8.12 in /usr/local/lib/python3.11/dist-packages (from scikit-image>=0.14->pulse2percept==0.9.0.dev0) (2025.1.10)\n",
            "Requirement already satisfied: lazy-loader>=0.4 in /usr/local/lib/python3.11/dist-packages (from scikit-image>=0.14->pulse2percept==0.9.0.dev0) (0.4)\n",
            "Requirement already satisfied: pytz>=2020.1 in /usr/local/lib/python3.11/dist-packages (from pandas->pulse2percept==0.9.0.dev0) (2024.2)\n",
            "Requirement already satisfied: tzdata>=2022.7 in /usr/local/lib/python3.11/dist-packages (from pandas->pulse2percept==0.9.0.dev0) (2025.1)\n",
            "Requirement already satisfied: six>=1.5 in /usr/local/lib/python3.11/dist-packages (from python-dateutil>=2.7->matplotlib>=3.0.2->pulse2percept==0.9.0.dev0) (1.17.0)\n"
          ]
        }
      ]
    },
    {
      "cell_type": "code",
      "source": [
        "import matplotlib.pyplot as plt\n",
        "from pulse2percept.stimuli import GratingStimulus\n",
        "from pulse2percept.stimuli.psychophysics import BarStimulus\n",
        "import numpy as np\n",
        "from pulse2percept.stimuli import VideoStimulus\n",
        "from PIL import Image\n",
        "import os\n"
      ],
      "metadata": {
        "id": "EJL_woAIbH_S"
      },
      "execution_count": 5,
      "outputs": []
    },
    {
      "cell_type": "markdown",
      "source": [
        "#old"
      ],
      "metadata": {
        "id": "Rs39LHpep8jc"
      }
    },
    {
      "cell_type": "code",
      "source": [
        "stim = GratingStimulus((180, 390), spatial_freq=4/390, temporal_freq=0.04, contrast=1, mask=None)\n",
        "plt.imshow(stim.data[:, 0].reshape(180, 390), cmap='gray')\n",
        "plt.title(\"Grating Stimulus\")\n",
        "plt.show()"
      ],
      "metadata": {
        "id": "7zwF-uz8aWW0",
        "colab": {
          "base_uri": "https://localhost:8080/",
          "height": 311
        },
        "outputId": "ca3bcb4c-539d-43a8-ca11-fdf11e34c6d7",
        "collapsed": true
      },
      "execution_count": 4,
      "outputs": [
        {
          "output_type": "display_data",
          "data": {
            "text/plain": [
              "<Figure size 640x480 with 1 Axes>"
            ],
            "image/png": "[encoded data removed]"
          },
          "metadata": {}
        }
      ]
    },
    {
      "cell_type": "code",
      "source": [
        "# Load the image\n",
        "image_path = r'/content/drive/MyDrive/Tuebingen/Tuebingen_data/Visual_stimulation/1/binary_grating_stimulus_0.png'\n",
        "image = Image.open(image_path)\n",
        "# Convert image to numpy array\n",
        "image_array = np.array(image)\n",
        "# Calculate the average color\n",
        "average_color = image_array.mean(axis=(0, 1))\n",
        "\n",
        "# Define the average RGB values\n",
        "average_rgb = [142, 143, 143]\n",
        "# Convert the RGB values to a hexadecimal color code\n",
        "hex_color = \"#{:02x}{:02x}{:02x}\".format(average_rgb[0], average_rgb[1], average_rgb[2])\n",
        "print(hex_color)\n",
        "# Define the average RGB values\n",
        "average_rgb = [142, 143, 143]\n",
        "# Convert the RGB values to a hexadecimal color code\n",
        "hex_color = \"#{:02x}{:02x}{:02x}\".format(average_rgb[0], average_rgb[1], average_rgb[2])\n",
        "hex_color"
      ],
      "metadata": {
        "colab": {
          "base_uri": "https://localhost:8080/",
          "height": 332
        },
        "id": "fmM7FZW8ihg7",
        "outputId": "92af4069-c57a-49fa-bd7f-779f40962a6b"
      },
      "execution_count": 5,
      "outputs": [
        {
          "output_type": "error",
          "ename": "FileNotFoundError",
          "evalue": "[Errno 2] No such file or directory: '/content/drive/MyDrive/Tuebingen/Tuebingen_data/Visual_stimulation/1/binary_grating_stimulus_0.png'",
          "traceback": [
            "\u001b[0;31m---------------------------------------------------------------------------\u001b[0m",
            "\u001b[0;31mFileNotFoundError\u001b[0m                         Traceback (most recent call last)",
            "\u001b[0;32m<ipython-input-5-dafe4e040059>\u001b[0m in \u001b[0;36m<cell line: 0>\u001b[0;34m()\u001b[0m\n\u001b[1;32m      1\u001b[0m \u001b[0;31m# Load the image\u001b[0m\u001b[0;34m\u001b[0m\u001b[0;34m\u001b[0m\u001b[0m\n\u001b[1;32m      2\u001b[0m \u001b[0mimage_path\u001b[0m \u001b[0;34m=\u001b[0m \u001b[0;34mr'/content/drive/MyDrive/Tuebingen/Tuebingen_data/Visual_stimulation/1/binary_grating_stimulus_0.png'\u001b[0m\u001b[0;34m\u001b[0m\u001b[0;34m\u001b[0m\u001b[0m\n\u001b[0;32m----> 3\u001b[0;31m \u001b[0mimage\u001b[0m \u001b[0;34m=\u001b[0m \u001b[0mImage\u001b[0m\u001b[0;34m.\u001b[0m\u001b[0mopen\u001b[0m\u001b[0;34m(\u001b[0m\u001b[0mimage_path\u001b[0m\u001b[0;34m)\u001b[0m\u001b[0;34m\u001b[0m\u001b[0;34m\u001b[0m\u001b[0m\n\u001b[0m\u001b[1;32m      4\u001b[0m \u001b[0;31m# Convert image to numpy array\u001b[0m\u001b[0;34m\u001b[0m\u001b[0;34m\u001b[0m\u001b[0m\n\u001b[1;32m      5\u001b[0m \u001b[0mimage_array\u001b[0m \u001b[0;34m=\u001b[0m \u001b[0mnp\u001b[0m\u001b[0;34m.\u001b[0m\u001b[0marray\u001b[0m\u001b[0;34m(\u001b[0m\u001b[0mimage\u001b[0m\u001b[0;34m)\u001b[0m\u001b[0;34m\u001b[0m\u001b[0;34m\u001b[0m\u001b[0m\n",
            "\u001b[0;32m/usr/local/lib/python3.11/dist-packages/PIL/Image.py\u001b[0m in \u001b[0;36mopen\u001b[0;34m(fp, mode, formats)\u001b[0m\n\u001b[1;32m   3463\u001b[0m \u001b[0;34m\u001b[0m\u001b[0m\n\u001b[1;32m   3464\u001b[0m     \u001b[0;32mif\u001b[0m \u001b[0mfilename\u001b[0m\u001b[0;34m:\u001b[0m\u001b[0;34m\u001b[0m\u001b[0;34m\u001b[0m\u001b[0m\n\u001b[0;32m-> 3465\u001b[0;31m         \u001b[0mfp\u001b[0m \u001b[0;34m=\u001b[0m \u001b[0mbuiltins\u001b[0m\u001b[0;34m.\u001b[0m\u001b[0mopen\u001b[0m\u001b[0;34m(\u001b[0m\u001b[0mfilename\u001b[0m\u001b[0;34m,\u001b[0m \u001b[0;34m\"rb\"\u001b[0m\u001b[0;34m)\u001b[0m\u001b[0;34m\u001b[0m\u001b[0;34m\u001b[0m\u001b[0m\n\u001b[0m\u001b[1;32m   3466\u001b[0m         \u001b[0mexclusive_fp\u001b[0m \u001b[0;34m=\u001b[0m \u001b[0;32mTrue\u001b[0m\u001b[0;34m\u001b[0m\u001b[0;34m\u001b[0m\u001b[0m\n\u001b[1;32m   3467\u001b[0m     \u001b[0;32melse\u001b[0m\u001b[0;34m:\u001b[0m\u001b[0;34m\u001b[0m\u001b[0;34m\u001b[0m\u001b[0m\n",
            "\u001b[0;31mFileNotFoundError\u001b[0m: [Errno 2] No such file or directory: '/content/drive/MyDrive/Tuebingen/Tuebingen_data/Visual_stimulation/1/binary_grating_stimulus_0.png'"
          ]
        }
      ]
    },
    {
      "cell_type": "code",
      "source": [
        "stim.play()"
      ],
      "metadata": {
        "id": "-lBJ20wUaok7",
        "collapsed": true
      },
      "execution_count": null,
      "outputs": []
    },
    {
      "cell_type": "code",
      "source": [
        "stim = BarStimulus((50, 50), speed=1)\n",
        "stim.play()"
      ],
      "metadata": {
        "id": "1_lzxtaxa66j",
        "collapsed": true
      },
      "execution_count": null,
      "outputs": []
    },
    {
      "cell_type": "code",
      "source": [
        "def create_binary_grating_stimulus(shape, spatial_freq, temporal_freq, num_frames, direction=0):\n",
        "    # Create the grating stimulus\n",
        "    stim = GratingStimulus(shape, spatial_freq=spatial_freq, temporal_freq=temporal_freq, direction=direction)\n",
        "\n",
        "    # Convert to binary (0 or 1) vertical grating\n",
        "    # binary_frames = (stim.data > 0.5).astype(np.uint8)\n",
        "    binary_frames=stim\n",
        "\n",
        "    return binary_frames\n",
        "\n",
        "# Define parameters\n",
        "shape =  (18, 39)  # size of each frame (1080x1961 pixels)\n",
        "spatial_freq = 4/shape[1]   # spatial frequency of the grating\n",
        "temporal_freq = 0.04  # temporal frequency of the grating\n",
        "num_frames = 10  # number of frames in the GIF\n",
        "\n",
        "# Create the binary grating stimulus\n",
        "binary_frames_N = create_binary_grating_stimulus(shape, spatial_freq, temporal_freq, num_frames, direction=180+45)\n",
        "binary_frames_N.play()\n"
      ],
      "metadata": {
        "id": "tvD-sccremi6",
        "collapsed": true
      },
      "execution_count": null,
      "outputs": []
    },
    {
      "cell_type": "code",
      "source": [
        "fig, ax = plt.subplots(figsize=(10, 10))\n",
        "ax.imshow(binary_frames_N[:, 420].reshape(shape), cmap='gray', vmin=0, vmax=1)\n",
        "plt.axis('off')\n",
        "plt.subplots_adjust(left=0, right=1, top=1, bottom=0)  # Remove padding\n",
        "ax.set_xticks([])\n",
        "ax.set_yticks([])\n",
        "ax.set_frame_on(False)\n",
        "plt.show()"
      ],
      "metadata": {
        "collapsed": true,
        "id": "evwOTcnrQa2k"
      },
      "execution_count": null,
      "outputs": []
    },
    {
      "cell_type": "markdown",
      "source": [
        "#functions"
      ],
      "metadata": {
        "id": "kkTxc9NFqPsu"
      }
    },
    {
      "cell_type": "code",
      "source": [
        "def create_binary_grating_stimulus(shape, spatial_freq, temporal_freq, num_frames, direction=0):\n",
        "    # Create the grating stimulus\n",
        "    stim = GratingStimulus(shape, spatial_freq=spatial_freq, temporal_freq=temporal_freq, direction=direction)\n",
        "\n",
        "    # Convert to binary (0 or 1) vertical grating\n",
        "    # binary_frames = (stim.data > 0.5).astype(np.uint8)\n",
        "    binary_frames=stim\n",
        "\n",
        "    return binary_frames"
      ],
      "metadata": {
        "id": "247yJ9KsqYIo"
      },
      "execution_count": 6,
      "outputs": []
    },
    {
      "cell_type": "code",
      "source": [
        "def create_binary_grating_stimulus(shape, spatial_freq, temporal_freq, num_frames, direction=0):\n",
        "    # Create the grating stimulus\n",
        "    stim = GratingStimulus(shape, spatial_freq=spatial_freq, temporal_freq=temporal_freq, direction=direction)\n",
        "\n",
        "    # Convert to binary (0 or 1) vertical grating\n",
        "    # binary_frames = (stim.data > 0.5).astype(np.uint8)\n",
        "    binary_frames=stim\n",
        "\n",
        "    return binary_frames"
      ],
      "metadata": {
        "id": "NTDuADVXqDgn"
      },
      "execution_count": 7,
      "outputs": []
    },
    {
      "cell_type": "code",
      "source": [
        "def save_stimulus_as_image_and_gif(frames, shape, file_name_prefix):\n",
        "    # Save as PNG (first frame)\n",
        "    fig, ax = plt.subplots(figsize=(10, 10))\n",
        "    ax.imshow(frames[:, 0].reshape(shape), cmap='gray', vmin=0, vmax=1)\n",
        "    plt.axis('off')\n",
        "    plt.subplots_adjust(left=0, right=1, top=1, bottom=0)  # Remove padding\n",
        "    ax.set_xticks([])\n",
        "    ax.set_yticks([])\n",
        "    ax.set_frame_on(False)\n",
        "    plt.savefig(f\"{file_name_prefix}.png\", bbox_inches='tight', pad_inches=0)\n",
        "    plt.close(fig)\n",
        "\n",
        "    # Save as GIF\n",
        "    images = []\n",
        "    for i in range(frames.shape[1]):\n",
        "        frame = frames[:, i].reshape(shape)\n",
        "        img = Image.fromarray((frame * 255).astype(np.uint8), 'L')  # 'L' mode for grayscale\n",
        "        images.append(img)\n",
        "    images[0].save(f\"{file_name_prefix}.gif\", save_all=True, append_images=images[1:], loop=0, duration=10)\n",
        "#file_link = r'/content/drive/MyDrive/Tuebingen/Tuebingen_data/Visual_stimulation/1/'\n",
        "# Save the binary grating stimulus\n",
        "#save_stimulus_as_image_and_gif(binary_stimulus_frames, shape, os.path.join(file_link, \"binary_grating_stimulus\"))"
      ],
      "metadata": {
        "id": "UxxyfstSEchy"
      },
      "execution_count": 8,
      "outputs": []
    },
    {
      "cell_type": "code",
      "source": [
        "def rotate_grating(frames, angle):\n",
        "    rotated_frames = []\n",
        "    for i in range(frames.shape[1]):\n",
        "        frame = frames[:, i].reshape(shape)\n",
        "        img = Image.fromarray((frame * 255).astype(np.uint8), 'L')  # Convert to PIL image\n",
        "        rotated_img = img.rotate(angle, resample=Image.NEAREST, expand=True)\n",
        "        rotated_frames.append(np.array(rotated_img) / 255.0)\n",
        "    return np.array(rotated_frames)\n"
      ],
      "metadata": {
        "id": "DhQMnYimksrc"
      },
      "execution_count": 9,
      "outputs": []
    },
    {
      "cell_type": "code",
      "source": [
        "# Define utility to create a binary grating stimulus\n",
        "def create_grating_frame(shape, spatial_freq, phase, direction=0):\n",
        "    \"\"\"Creates a single frame of a binary grating stimulus at a specific phase.\"\"\"\n",
        "    # Create a grid of x, y coordinates\n",
        "    x = np.linspace(0, 2 * np.pi, shape[1])\n",
        "    y = np.linspace(0, 2 * np.pi, shape[0])\n",
        "    X, Y = np.meshgrid(x, y)\n",
        "\n",
        "    # Compute the grating\n",
        "    grating = np.sin(spatial_freq * X + phase)\n",
        "\n",
        "    # Convert to binary (0 or 1)\n",
        "    binary_frame = (grating > 0).astype(np.uint8)\n",
        "\n",
        "    return binary_frame\n",
        "\n",
        "def create_grating_sequence(shape, spatial_freq, temporal_freq, num_frames, direction=0):\n",
        "    \"\"\"Generates a sequence of grating frames with a temporal frequency.\"\"\"\n",
        "    # Calculate phase shift per frame\n",
        "    phase_shift = 2 * np.pi * temporal_freq / num_frames\n",
        "    frames = []\n",
        "\n",
        "    # Create each frame in the sequence\n",
        "    for frame_idx in range(num_frames):\n",
        "        phase = frame_idx * phase_shift\n",
        "        frame = create_grating_frame(shape, spatial_freq, phase, direction)\n",
        "        frames.append(frame)\n",
        "\n",
        "    return frames\n",
        "\n"
      ],
      "metadata": {
        "id": "PfGQEPOHZHXH"
      },
      "execution_count": 10,
      "outputs": []
    },
    {
      "cell_type": "code",
      "source": [
        "def create_binary_grating_stimulus_array(binary_stimulus, shape):\n",
        "    \"\"\"\n",
        "    Create binary grating stimulus frames and store every 10th frame in a list.\n",
        "\n",
        "    Parameters:\n",
        "    binary_stimulus (numpy array): The stimulus data with shape (num_pixels, num_frames)\n",
        "    shape (tuple): The shape to reshape each frame into (e.g., (18, 39))\n",
        "\n",
        "    Returns:\n",
        "    list: A list containing every 10th frame (and the last frame).\n",
        "    \"\"\"\n",
        "    binary_grating_frames = []\n",
        "\n",
        "    # Loop to generate and store the frames\n",
        "    for b in range(509):   # Close the plot to avoid memory issues\n",
        "          # Reshape to (18, 39) for the frame\n",
        "\n",
        "    # Only store every 10th frame or the last one\n",
        "        if b % 10 == 0:# or b == 509:\n",
        "            frame = binary_stimulus[:, b].reshape(shape)\n",
        "            frame = np.where(frame > 0.5, 1, 0)  # Convert to binary (0 or 1)\n",
        "            binary_grating_frames.append(frame)\n",
        "\n",
        "            # Optionally save the frame as a PNG (as in your original code)\n",
        "            fig, ax = plt.subplots()\n",
        "            ax.imshow(frame, cmap='gray', vmin=0, vmax=1)\n",
        "            plt.axis('off')\n",
        "            plt.subplots_adjust(left=0, right=1, top=1, bottom=0)  # Remove padding\n",
        "            ax.set_xticks([])\n",
        "            ax.set_yticks([])\n",
        "            ax.set_frame_on(False)\n",
        "            #plt.savefig(f'/content/drive/MyDrive/Tuebingen/Tuebingen_data/Visual_stimulation/grating_colage/1/frame_{b}.png',\n",
        "                        #bbox_inches='tight', pad_inches=0, transparent=True)\n",
        "            plt.close()\n",
        "    #binary_grating_frames = binary_grating_frames + binary_grating_frames + binary_grating_frames + binary_grating_frames  + binary_grating_frames  + binary_grating_frames  + binary_grating_frames  + binary_grating_frames  + binary_grating_frames  + binary_grating_frames\n",
        "    #binary_grating_frames = binary_grating_frames[0:300] # Keep only the first 120 frames\n",
        "    # Return the list of stored frames\n",
        "    return binary_grating_frames  # Return the list of stored frames"
      ],
      "metadata": {
        "id": "g_ZJ5eDdpM5I"
      },
      "execution_count": 11,
      "outputs": []
    },
    {
      "cell_type": "code",
      "source": [
        "\n",
        "# Function to generate a grating for still and moving stimuli\n",
        "def create_still_and_moving_grating(shape, spatial_freq, still_temporal_freq, moving_temporal_freq, num_frames, directions):\n",
        "    grating_frames = []\n",
        "    for direction in directions:\n",
        "        # Still grating\n",
        "        still_grating = create_binary_grating_stimulus_array(\n",
        "            create_binary_grating_stimulus(shape, spatial_freq, still_temporal_freq, num_frames, direction=direction), shape\n",
        "        )\n",
        "        # Moving grating\n",
        "        moving_grating_1 = create_binary_grating_stimulus_array(\n",
        "            create_binary_grating_stimulus(shape, spatial_freq, moving_temporal_freq, num_frames, direction=direction), shape\n",
        "        )\n",
        "        moving_grating_2 = create_binary_grating_stimulus_array(\n",
        "            create_binary_grating_stimulus(shape, spatial_freq, moving_temporal_freq, num_frames, direction=direction+180), shape\n",
        "        )\n",
        "        grating_frames.append((still_grating, moving_grating_1, moving_grating_2))\n",
        "    return grating_frames"
      ],
      "metadata": {
        "id": "MkWORzAbqvfR"
      },
      "execution_count": 12,
      "outputs": []
    },
    {
      "cell_type": "markdown",
      "source": [
        "#workflow"
      ],
      "metadata": {
        "id": "VD5wmbuUqi8E"
      }
    },
    {
      "cell_type": "code",
      "source": [
        "shape = (108, 192)  # 18x39 pixels frame size\n",
        "spatial_freq = 4 / shape[1]  # Spatial frequency of the grating for each row\n",
        "num_frames = 51  # Number of frames in 1 second\n",
        "contrast = 1\n",
        "directions = [0, 45, 90, 135]\n",
        "\n",
        "grey_rgb_value = [80, 80, 80]\n",
        "grey_row = [np.full(shape, np.mean(grey_rgb_value), dtype=np.uint8) for _ in range(num_frames)]\n",
        "black_row = [np.zeros(shape, dtype=np.uint8) for _ in range(num_frames)]\n",
        "grating_frames = create_still_and_moving_grating(\n",
        "    shape, spatial_freq, still_temporal_freq=0, moving_temporal_freq=0.04, num_frames=num_frames, directions=directions\n",
        ")"
      ],
      "metadata": {
        "id": "iiFKjJGkXN1C"
      },
      "execution_count": 13,
      "outputs": []
    },
    {
      "cell_type": "code",
      "source": [
        "grey_rgb_value = [40, 40, 40]"
      ],
      "metadata": {
        "id": "A1agkkvzbn5n"
      },
      "execution_count": 28,
      "outputs": []
    },
    {
      "cell_type": "code",
      "source": [
        "\n",
        "collage = []\n",
        "collage.extend(black_row)\n",
        "collage.extend(black_row)\n",
        "collage.extend(black_row)\n",
        "collage.extend(black_row)\n",
        "collage.extend(black_row)\n",
        "collage.extend(black_row)\n",
        "collage.extend(black_row)\n",
        "collage.extend(black_row)\n",
        "collage.extend(black_row)\n",
        "collage.extend(black_row)\n",
        "for still_grating, moving_grating_1, moving_grating_2 in grating_frames:\n",
        "      collage.extend(grey_row)\n",
        "      collage.extend(grey_row)\n",
        "      collage.extend(grey_row)\n",
        "      collage.extend(grey_row)\n",
        "      collage.extend(grey_row)\n",
        "      collage.extend(still_grating)\n",
        "      collage.extend(still_grating)\n",
        "      collage.extend(still_grating)\n",
        "      collage.extend(still_grating)\n",
        "      collage.extend(still_grating)\n",
        "      collage.extend(grey_row)\n",
        "      collage.extend(grey_row)\n",
        "      collage.extend(grey_row)\n",
        "      collage.extend(grey_row)\n",
        "      collage.extend(grey_row)\n",
        "      collage.extend(moving_grating_1)\n",
        "      collage.extend(moving_grating_1)\n",
        "      collage.extend(moving_grating_1)\n",
        "      collage.extend(moving_grating_1)\n",
        "      collage.extend(moving_grating_1)\n",
        "      collage.extend(grey_row)\n",
        "      collage.extend(grey_row)\n",
        "      collage.extend(grey_row)\n",
        "      collage.extend(grey_row)\n",
        "      collage.extend(grey_row)\n",
        "      collage.extend(moving_grating_2)\n",
        "      collage.extend(moving_grating_2)\n",
        "      collage.extend(moving_grating_2)\n",
        "      collage.extend(moving_grating_2)\n",
        "      collage.extend(moving_grating_2)\n",
        "collage.extend(black_row)\n",
        "collage.extend(black_row)\n",
        "collage.extend(black_row)\n",
        "collage.extend(black_row)\n",
        "collage.extend(black_row)\n",
        "collage.extend(black_row)\n",
        "collage.extend(black_row)\n",
        "collage.extend(black_row)\n",
        "collage.extend(black_row)\n",
        "collage.extend(black_row)\n",
        "collage_array = np.array(collage)\n",
        "\n",
        "collage_image = np.vstack([np.hstack(collage_array[i * num_frames:(i + 1) * num_frames])\n",
        "                           for i in range(len(collage) // num_frames)])\n",
        "\n",
        "# Save the final collage as an image\n",
        "output_image = Image.fromarray((collage_image * 51).astype(np.uint8))\n",
        "output_image.save('/content/drive/MyDrive/Tuebingen/Tuebingen_data/Visual_stimulation/grating_colage/for_yuri_NEW/polina_mod_2_77.png')\n",
        "\n",
        "print(\"Collage saved successfully.\")"
      ],
      "metadata": {
        "colab": {
          "base_uri": "https://localhost:8080/"
        },
        "id": "Bv6Ty4WkrTvG",
        "outputId": "de48b3df-8fda-43a6-a092-6e51df11c311"
      },
      "execution_count": 29,
      "outputs": [
        {
          "output_type": "stream",
          "name": "stdout",
          "text": [
            "Collage saved successfully.\n"
          ]
        }
      ]
    },
    {
      "cell_type": "code",
      "source": [
        "# Assume you have generated the `collage_array` from the previous code\n",
        "# Frame size for the video\n",
        "height, width = shape\n",
        "\n",
        "# Create a VideoWriter object to write the video\n",
        "output_video_path = '/content/drive/MyDrive/Tuebingen/Tuebingen_data/Visual_stimulation/grating_colage/for_yuri_NEW/polina_mod_2_51.mp4'\n",
        "# Set FPS to 1 since we want each row to be shown for 1 second\n",
        "fps = 60  # frames per second\n",
        "\n",
        "# Define video writer object, codec, and frame size\n",
        "fourcc = cv2.VideoWriter_fourcc(*'mp4v')  # Codec for .mp4 file\n",
        "video_writer = cv2.VideoWriter(output_video_path, fourcc, fps, (width, height))\n",
        "\n",
        "# Go through each row in the collage_array (each row is a \"frame\")\n",
        "for i in range(len(collage_array * 51)-1):\n",
        "    frame = collage_array[i]  # Get the i-th row, which is a frame\n",
        "    frame_image = (frame * 51).astype(np.uint8)  # Normalize pixel values to 0-255\n",
        "    frame_bgr = cv2.cvtColor(frame_image, cv2.COLOR_GRAY2BGR)  # Convert to BGR for video writer\n",
        "\n",
        "    # Write the frame to the video\n",
        "    video_writer.write(frame_bgr)\n",
        "\n",
        "# Release the video writer and save the file\n",
        "video_writer.release()\n",
        "\n",
        "print(f\"Video saved successfully at {output_video_path}\")"
      ],
      "metadata": {
        "colab": {
          "base_uri": "https://localhost:8080/"
        },
        "id": "_gc-RBm-WWdN",
        "outputId": "151fa37c-5650-49b7-9624-5989af84fbee"
      },
      "execution_count": 26,
      "outputs": [
        {
          "output_type": "stream",
          "name": "stdout",
          "text": [
            "Video saved successfully at /content/drive/MyDrive/Tuebingen/Tuebingen_data/Visual_stimulation/grating_colage/for_yuri_NEW/polina_mod_2_51.mp4\n"
          ]
        }
      ]
    },
    {
      "cell_type": "code",
      "source": [
        "\n",
        "\n",
        "# Helper Functions\n",
        "def create_black_frame(frame_shape):\n",
        "    return np.zeros(frame_shape, dtype=np.uint8)\n",
        "\n",
        "def create_frame_with_white_square(frame_shape, position, square_size):\n",
        "    frame = create_black_frame(frame_shape)\n",
        "    start_y, start_x = position\n",
        "    end_y = int(start_y + square_size)\n",
        "    end_x = int(start_x + square_size)\n",
        "    frame[start_y:end_y, start_x:end_x] = 255\n",
        "    return frame\n",
        "\n",
        "def create_frame_with_stripes(frame_shape, square_size, angle):\n",
        "    frame = create_black_frame(frame_shape)\n",
        "    for y in range(0, frame_shape[0], square_size):\n",
        "        for x in range(0, frame_shape[1], square_size):\n",
        "            if angle == 45:\n",
        "                if (x + y) % (2 * square_size) < square_size:\n",
        "                    frame[y:y + square_size, x:x + square_size] = 255\n",
        "            elif angle == 90:\n",
        "                if x % (2 * square_size) < square_size:\n",
        "                    frame[y:y + square_size, x:x + square_size] = 255\n",
        "            elif angle == 135:\n",
        "                if (x - y) % (2 * square_size) < square_size:\n",
        "                    frame[y:y + square_size, x:x + square_size] = 255\n",
        "    return frame\n",
        "\n",
        "def generate_frames(frame_shape, square_size, grid_positions, num_frames_black, num_frames_white, num_frames_gap, pattern_type, angle=None):\n",
        "    collage_frames = []\n",
        "    black_frame = create_black_frame(frame_shape)\n",
        "\n",
        "    collage_frames.extend([black_frame] * num_frames_black)\n",
        "\n",
        "    for position in grid_positions:\n",
        "        for _ in range(num_frames_white):\n",
        "            if pattern_type == 'square':\n",
        "                frame = create_frame_with_white_square(frame_shape, position, square_size)\n",
        "            elif pattern_type == 'stripes':\n",
        "                frame = create_frame_with_stripes(frame_shape, square_size, angle)\n",
        "            collage_frames.append(frame)\n",
        "        collage_frames.extend([black_frame] * num_frames_gap)\n",
        "\n",
        "    collage_frames.extend([black_frame] * num_frames_black)\n",
        "\n",
        "    return collage_frames\n",
        "\n",
        "def save_video(frames, output_path, frame_shape, fps):\n",
        "    fourcc = cv2.VideoWriter_fourcc(*'mp4v')\n",
        "    video_writer = cv2.VideoWriter(output_path, fourcc, fps, (frame_shape[1], frame_shape[0]))\n",
        "\n",
        "    for frame in frames:\n",
        "        frame_bgr = cv2.cvtColor(frame, cv2.COLOR_GRAY2BGR)\n",
        "        video_writer.write(frame_bgr)\n",
        "\n",
        "    video_writer.release()\n",
        "    print(f\"Video saved successfully at {output_path}\")\n",
        "\n",
        "def save_collage_image(frames, output_path, num_frames):\n",
        "    num_rows = len(frames) // num_frames\n",
        "    collage_image = np.vstack([\n",
        "        np.hstack(frames[i * num_frames:(i + 1) * num_frames]) for i in range(num_rows)\n",
        "    ])\n",
        "    collage_image = collage_image.astype(np.uint8)\n",
        "    Image.fromarray(collage_image).save(output_path)\n",
        "    print(f\"Collage image saved successfully at {output_path}\")\n",
        "\n",
        "def save_description(output_path, frame_shape, frame_count, comment):\n",
        "    description = (\n",
        "        \"[QDSMovie2Description]\\n\"\n",
        "        f\"QDSVersionID=xQDS\\n\"\n",
        "        f\"FrWidth={frame_shape[1]}\\n\"\n",
        "        f\"FrHeight={frame_shape[0]}\\n\"\n",
        "        f\"FrCount={frame_count}\\n\"\n",
        "        \"isFirstFrBottomLeft=True\\n\"\n",
        "        f\"Comment={comment}\\n\"\n",
        "    )\n",
        "    with open(output_path, 'w') as file:\n",
        "        file.write(description)\n",
        "    print(f\"Description saved successfully at {output_path}\")\n",
        "\n",
        "def main():\n",
        "    output_dir = '/content/drive/MyDrive/Tuebingen/Tuebingen_data/Visual_stimulation/grating_colage/'\n",
        "    os.makedirs(output_dir, exist_ok=True)\n",
        "\n",
        "    frame_shape = (12, 16)\n",
        "    square_size = frame_shape[1] // 4\n",
        "    num_frames = 60*5\n",
        "    fps = 60\n",
        "    num_frames_black = 2 * num_frames\n",
        "    num_frames_white = 1 * num_frames\n",
        "    num_frames_gap = 1 * num_frames\n",
        "\n",
        "    num_rows = frame_shape[0] // square_size\n",
        "    num_cols = frame_shape[1] // square_size\n",
        "\n",
        "    grid_positions = [\n",
        "        (row * square_size, col * square_size)\n",
        "        for row in range(num_rows)\n",
        "        for col in range(num_cols)\n",
        "    ]\n",
        "\n",
        "    patterns = ['square']\n",
        "    angles = [0, 45, 90, 135]\n",
        "\n",
        "    for pattern in patterns:\n",
        "        if pattern == 'square':\n",
        "            comment = \"grating movie with white square\"\n",
        "            frames = generate_frames(frame_shape, square_size, grid_positions, num_frames_black, num_frames_white, num_frames_gap, pattern)\n",
        "            video_path = os.path.join(output_dir, 'white_square_test1_small.mp4')\n",
        "            png_path = os.path.join(output_dir, 'white_square_test1_small.png')\n",
        "            txt_path = os.path.join(output_dir, 'white_square_test1_small.txt')\n",
        "        else:\n",
        "            for angle in angles:\n",
        "                comment = f\"grating movie with stripes at {angle} degrees\"\n",
        "                frames = generate_frames(frame_shape, square_size, grid_positions, num_frames_black, num_frames_white, num_frames_gap, pattern, angle)\n",
        "                video_path = os.path.join(output_dir, f'stripes_{angle}.mp4')\n",
        "                png_path = os.path.join(output_dir, f'stripes_{angle}.png')\n",
        "                txt_path = os.path.join(output_dir, f'stripes_{angle}.txt')\n",
        "\n",
        "        save_video(frames, video_path, frame_shape, fps)\n",
        "        save_collage_image(frames, png_path, num_frames)\n",
        "        save_description(txt_path, frame_shape, len(frames), comment)\n",
        "\n",
        "if __name__ == \"__main__\":\n",
        "    main()\n"
      ],
      "metadata": {
        "colab": {
          "base_uri": "https://localhost:8080/"
        },
        "id": "wHQTHPdU3oJ3",
        "outputId": "9672560c-2a7c-4bfe-aba0-5ebf6c6628f2"
      },
      "execution_count": 8,
      "outputs": [
        {
          "output_type": "stream",
          "name": "stdout",
          "text": [
            "Video saved successfully at /content/drive/MyDrive/Tuebingen/Tuebingen_data/Visual_stimulation/grating_colage/white_square_test1_small.mp4\n",
            "Collage image saved successfully at /content/drive/MyDrive/Tuebingen/Tuebingen_data/Visual_stimulation/grating_colage/white_square_test1_small.png\n",
            "Description saved successfully at /content/drive/MyDrive/Tuebingen/Tuebingen_data/Visual_stimulation/grating_colage/white_square_test1_small.txt\n"
          ]
        }
      ]
    },
    {
      "cell_type": "code",
      "source": [],
      "metadata": {
        "id": "OtR9mnVZa5Vw"
      },
      "execution_count": null,
      "outputs": []
    }
  ]
}